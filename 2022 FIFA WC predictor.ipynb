{
 "cells": [
  {
   "cell_type": "markdown",
   "metadata": {
    "id": "6oeHq-gYCojf"
   },
   "source": [
    "## Importing necessary libraries and modules:\n"
   ]
  },
  {
   "cell_type": "code",
   "execution_count": 1,
   "metadata": {
    "id": "8Os5lAV4CJw9"
   },
   "outputs": [],
   "source": [
    "import pandas as pd\n",
    "import numpy as np\n",
    "import matplotlib.pyplot as plt\n",
    "import matplotlib.ticker as ticker\n",
    "import matplotlib.ticker as plticker\n",
    "import pickle\n",
    "from tabulate import tabulate\n",
    "import math\n",
    "from sklearn.model_selection import cross_validate\n",
    "from sklearn.metrics import recall_score\n",
    "from sklearn import svm\n",
    "from sklearn.model_selection import train_test_split"
   ]
  },
  {
   "cell_type": "code",
   "execution_count": 2,
   "metadata": {
    "id": "VZRAAUpbya5n"
   },
   "outputs": [],
   "source": [
    "# import csvs\n",
    "results = pd.read_csv('results.csv')\n",
    "fixtures = pd.read_csv('fifa-world-cup-2022-fixtures.csv')\n",
    "ranking = pd.read_csv('new_rankings.csv', encoding = 'latin-1')\n"
   ]
  },
  {
   "cell_type": "markdown",
   "metadata": {
    "id": "edN_2z3ZO1wQ"
   },
   "source": [
    "## Changing the results.csv dataset to include name of winning team and goal difference"
   ]
  },
  {
   "cell_type": "code",
   "execution_count": 3,
   "metadata": {
    "id": "mfvb1RiOO9SG"
   },
   "outputs": [],
   "source": [
    "results.head()\n",
    "\n",
    "winner = []\n",
    "\n",
    "for i in range (len(results['home_team'])):\n",
    "    if results ['home_score'][i] > results['away_score'][i]:\n",
    "        winner.append(results['home_team'][i])\n",
    "    elif results['home_score'][i] < results ['away_score'][i]:\n",
    "        winner.append(results['away_team'][i])\n",
    "    else:\n",
    "        winner.append('Draw')\n",
    "\n",
    "# adding winning team column\n",
    "results['winning_team'] = winner\n",
    "\n",
    "# adding goal difference column \n",
    "results['goal_difference'] = np.absolute(results['home_score'] - results['away_score'])"
   ]
  },
  {
   "cell_type": "markdown",
   "metadata": {
    "id": "1c3BclhdTlJE"
   },
   "source": [
    "## Changing the results.csv dataset to only show record of the teams qualified for this edition of the world cup and also to only show results from 2000 onwards"
   ]
  },
  {
   "cell_type": "code",
   "execution_count": 4,
   "metadata": {
    "id": "NcWFMvXtUciQ"
   },
   "outputs": [],
   "source": [
    "worldcup_teams = ['Qatar', 'Germany', 'Denmark', 'Korea Republic',\n",
    "                  'Brazil', 'France', 'Belgium', 'Croatia',\n",
    "                  'Spain', 'Serbia', 'England', 'Switzerland',\n",
    "                  'Netherlands', 'Argentina', 'Iran', 'Japan',\n",
    "                  'Saudi Arabia', 'Ecuador', 'Uruguay', 'Canada',\n",
    "                  'Ghana', 'Senegal', 'Portugal', 'Poland',\n",
    "                  'Tunisia', 'Morocco', 'Cameroon', 'USA',\n",
    "                  'Mexico', 'Cota Rica', 'Wales', 'Peru']\n",
    "\n",
    "df_teams_home = results[results['home_team'].isin(worldcup_teams)]\n",
    "df_teams_away = results[results['away_team'].isin(worldcup_teams)]\n",
    "df_teams = pd.concat((df_teams_home, df_teams_away))\n",
    "df_teams.drop_duplicates()\n",
    "df_teams.count()\n",
    "\n",
    "year = []\n",
    "for row in df_teams['date']:\n",
    "    year.append(int(row[:4]))\n",
    "df_teams['match_year'] = year\n",
    "df_teams_2000 = df_teams[df_teams.match_year >= 2000]\n",
    "df_teams_2000.head()\n",
    "\n",
    "df_teams_2000 = df_teams.drop(['date', 'home_score', 'away_score', 'tournament', 'city', 'country',\n",
    "                               'goal_difference', 'match_year'], axis = 1)"
   ]
  },
  {
   "cell_type": "markdown",
   "metadata": {
    "id": "jvqy5G6mD3yt"
   },
   "source": [
    "## Giving points to the teams. 3 points for winning, 1 point for drawing, and 0 points for losing a game"
   ]
  },
  {
   "cell_type": "code",
   "execution_count": 5,
   "metadata": {
    "id": "bEIWJz-cDxNw"
   },
   "outputs": [],
   "source": [
    "df_teams_2000 = df_teams_2000.reset_index(drop=True)\n",
    "df_teams_2000.loc[df_teams_2000.winning_team == df_teams_2000.home_team,'winning_team']=3\n",
    "df_teams_2000.loc[df_teams_2000.winning_team == 'Draw', 'winning_team']=1\n",
    "df_teams_2000.loc[df_teams_2000.winning_team == df_teams_2000.away_team, 'winning_team']=0"
   ]
  },
  {
   "cell_type": "markdown",
   "metadata": {
    "id": "1IhcCiCEFHlj"
   },
   "source": [
    "## Splitting the data into testing and training data, as well as cross validating"
   ]
  },
  {
   "cell_type": "code",
   "execution_count": 6,
   "metadata": {
    "id": "IERss2GuFM5l"
   },
   "outputs": [],
   "source": [
    "final = pd.get_dummies(df_teams_2000, prefix=['home_team', 'away_team'], columns=['home_team', 'away_team'])\n",
    "\n",
    "# Separating X and y sets\n",
    "X = final.drop(['winning_team'], axis=1)\n",
    "y = final[\"winning_team\"]\n",
    "y = y.astype('int')\n",
    "\n",
    "# Separating training and testing sets\n",
    "X_train, X_test, y_train, y_test = train_test_split(X, y, test_size=0.30, random_state=36) "
   ]
  },
  {
   "cell_type": "code",
   "execution_count": 7,
   "metadata": {
    "colab": {
     "base_uri": "https://localhost:8080/"
    },
    "id": "ifveLPAzHa8p",
    "outputId": "091a3f22-793f-4737-9e51-f5095e6fa23b"
   },
   "outputs": [
    {
     "data": {
      "text/plain": [
       "array([0.46518716, 0.4627662 , 0.46511186, 0.46224509, 0.46250179])"
      ]
     },
     "execution_count": 7,
     "metadata": {},
     "output_type": "execute_result"
    }
   ],
   "source": [
    "from sklearn import svm\n",
    "\n",
    "scoring = ['precision_macro', 'recall_macro']\n",
    "clf = svm.SVC(kernel='linear', C=1, random_state=0)\n",
    "scores = cross_validate(clf, X_train, y_train, scoring=scoring)\n",
    "sorted(scores.keys())\n",
    "scores['test_recall_macro']"
   ]
  },
  {
   "cell_type": "markdown",
   "metadata": {
    "id": "hocleo7bJM7i"
   },
   "source": [
    "## SVM Model \n"
   ]
  },
  {
   "cell_type": "code",
   "execution_count": 8,
   "metadata": {
    "colab": {
     "base_uri": "https://localhost:8080/"
    },
    "id": "cJ5alBMUJRZO",
    "outputId": "5bb850e3-b1d0-4430-fefe-5b62be9d2cbd"
   },
   "outputs": [
    {
     "name": "stdout",
     "output_type": "stream",
     "text": [
      "Training set accuracy  0.651\n",
      "Test set accuracy  0.574\n"
     ]
    }
   ],
   "source": [
    "# sklearn.svm.SVC(*, C=1.0, kernel='rbf', degree=3, gamma='scale', coef0=0.0, shrinking=True, probability=False, tol=0.001, cache_size=200, class_weight=None, verbose=False, max_iter=- 1, decision_function_shape='ovr', break_ties=False, random_state=None)\n",
    "# sklearn.svm.LinearSVC(penalty='l2', loss='squared_hinge', *, dual=True, tol=0.0001, C=1.0, multi_class='ovr', fit_intercept=True, intercept_scaling=1, class_weight=None, verbose=0, random_state=None, max_iter=1000)\n",
    "from sklearn import svm\n",
    "\n",
    "svm_clf = svm.SVC() # svm.LinearSVC() for one-vs-the-rest\n",
    "svm = svm_clf.fit(X_train, y_train)\n",
    "\n",
    "score = svm.score(X_train, y_train)\n",
    "score2 = svm.score(X_test, y_test)\n",
    "\n",
    "print('Training set accuracy ', '%.3f'%(score))\n",
    "print('Test set accuracy ', '%.3f'%(score2))\n",
    "\n",
    "#saveModelsToDrive('svm_New.sav', svm_clf)"
   ]
  },
  {
   "cell_type": "markdown",
   "metadata": {
    "id": "EnO_O5XoJdYo"
   },
   "source": [
    "## Logistic Regression Model:"
   ]
  },
  {
   "cell_type": "code",
   "execution_count": 9,
   "metadata": {
    "colab": {
     "base_uri": "https://localhost:8080/"
    },
    "id": "pRn-MklPJi_Z",
    "outputId": "ce762b2b-b8d7-45b3-bfcc-839614fb8104"
   },
   "outputs": [
    {
     "name": "stdout",
     "output_type": "stream",
     "text": [
      "Training set accuracy  0.577\n",
      "Test set accuracy  0.564\n"
     ]
    }
   ],
   "source": [
    "from sklearn.linear_model import LogisticRegression\n",
    "\n",
    "# sklearn.linear_model.LogisticRegression(penalty='l2', *, dual=False, tol=0.0001, C=1.0, fit_intercept=True, intercept_scaling=1, class_weight=None, random_state=None, solver='lbfgs', max_iter=100, multi_class='auto', verbose=0, warm_start=False, n_jobs=None, l1_ratio=None)\n",
    "\n",
    "final.head()\n",
    "logistic = LogisticRegression(penalty='l2', max_iter = 1000)\n",
    "logistic.fit(X_train, y_train)\n",
    "score = logistic.score(X_train, y_train)\n",
    "score2 = logistic.score(X_test, y_test)\n",
    "\n",
    "print('Training set accuracy ', '%.3f'%(score))\n",
    "print('Test set accuracy ', '%.3f'%(score2))\n",
    "\n",
    "#saveModelsToDrive('logistic_New.sav', logistic)"
   ]
  },
  {
   "cell_type": "markdown",
   "metadata": {
    "id": "0YH9-1jLpfUw"
   },
   "source": [
    "## Random Forest Model:"
   ]
  },
  {
   "cell_type": "code",
   "execution_count": 10,
   "metadata": {
    "colab": {
     "base_uri": "https://localhost:8080/"
    },
    "id": "db9T1cEWpgGc",
    "outputId": "eeaafff4-571f-4fb9-cf50-e7d95f34874b"
   },
   "outputs": [
    {
     "name": "stdout",
     "output_type": "stream",
     "text": [
      "Training set accuracy  0.703\n",
      "Test set accuracy  0.554\n"
     ]
    }
   ],
   "source": [
    "from sklearn.ensemble import RandomForestClassifier\n",
    "\n",
    "# sklearn.ensemble.RandomForestClassifier(n_estimators=100, *, criterion='gini', max_depth=None, min_samples_split=2, min_samples_leaf=1, min_weight_fraction_leaf=0.0, max_features='auto', max_leaf_nodes=None, min_impurity_decrease=0.0, bootstrap=True, oob_score=False, n_jobs=None, random_state=None, verbose=0, warm_start=False, class_weight=None, ccp_alpha=0.0, max_samples=None)\n",
    "\n",
    "forest_clf = RandomForestClassifier()\n",
    "forest_clf.fit(X_train, y_train)\n",
    "\n",
    "score = forest_clf.score(X_train, y_train)\n",
    "score2 = forest_clf.score(X_test, y_test)\n",
    "\n",
    "print('Training set accuracy ', '%.3f'%(score))\n",
    "print('Test set accuracy ', '%.3f'%(score2))\n",
    "\n",
    "#saveModelsToDrive(\"RandomForest.sav\", forest_clf)"
   ]
  },
  {
   "cell_type": "markdown",
   "metadata": {
    "id": "XuT3OXgLElcM"
   },
   "source": [
    "## We will match predictions using the latest FIFA rankings and group stage planned match information. For any match scheduled to be played the higher ranked team according to the latest FIFA rankings will be the home team."
   ]
  },
  {
   "cell_type": "code",
   "execution_count": 11,
   "metadata": {
    "colab": {
     "base_uri": "https://localhost:8080/"
    },
    "id": "OzkuOeggFvWe",
    "outputId": "7fa19639-b334-47ff-f71e-e88bd1085b6c"
   },
   "outputs": [
    {
     "name": "stderr",
     "output_type": "stream",
     "text": [
      "/var/folders/dn/pq01swjn7lb4fy0x3bmwc_2r0000gn/T/ipykernel_27009/1093839170.py:32: PerformanceWarning: DataFrame is highly fragmented.  This is usually the result of calling `frame.insert` many times, which has poor performance.  Consider joining all columns at once using pd.concat(axis=1) instead.  To get a de-fragmented frame, use `newframe = frame.copy()`\n",
      "  pred_set[i] = 0\n"
     ]
    },
    {
     "name": "stdout",
     "output_type": "stream",
     "text": [
      "Match Number:  1\n",
      "Netherlands and Senegal\n",
      "Winner: Netherlands\n",
      "\n",
      "Match Number:  2\n",
      "England and Iran\n",
      "Winner: England\n",
      "\n",
      "Match Number:  3\n",
      "Ecuador and Qatar\n",
      "Winner: Ecuador\n",
      "\n",
      "Match Number:  4\n",
      "USA and Wales\n",
      "Winner: USA\n",
      "\n",
      "Match Number:  5\n",
      "Argentina and Saudi Arabia\n",
      "Winner: Argentina\n",
      "\n",
      "Match Number:  6\n",
      "Denmark and Tunisia\n",
      "Winner: Denmark\n",
      "\n",
      "Match Number:  7\n",
      "Mexico and Poland\n",
      "Winner: Mexico\n",
      "\n",
      "Match Number:  8\n",
      "France and Peru\n",
      "Winner: France\n",
      "\n",
      "Match Number:  9\n",
      "Croatia and Morocco\n",
      "Winner: Croatia\n",
      "\n",
      "Match Number:  10\n",
      "Germany and Japan\n",
      "Winner: Germany\n",
      "\n",
      "Match Number:  11\n",
      "Spain and Costa Rica\n",
      "Winner: Spain\n",
      "\n",
      "Match Number:  12\n",
      "Belgium and Canada\n",
      "Winner: Belgium\n",
      "\n",
      "Match Number:  13\n",
      "Switzerland and Cameroon\n",
      "Winner: Switzerland\n",
      "\n",
      "Match Number:  14\n",
      "Korea Republic and Uruguay\n",
      "Winner: Uruguay\n",
      "\n",
      "Match Number:  15\n",
      "Portugal and Ghana\n",
      "Winner: Portugal\n",
      "\n",
      "Match Number:  16\n",
      "Brazil and Serbia\n",
      "Winner: Brazil\n",
      "\n",
      "Match Number:  17\n",
      "Wales and Iran\n",
      "Winner: Wales\n",
      "\n",
      "Match Number:  18\n",
      "Senegal and Qatar\n",
      "Winner: Senegal\n",
      "\n",
      "Match Number:  19\n",
      "Netherlands and Ecuador\n",
      "Winner: Netherlands\n",
      "\n",
      "Match Number:  20\n",
      "England and USA\n",
      "Winner: England\n",
      "\n",
      "Match Number:  21\n",
      "Peru and Tunisia\n",
      "Winner: Peru\n",
      "\n",
      "Match Number:  22\n",
      "Poland and Saudi Arabia\n",
      "Winner: Poland\n",
      "\n",
      "Match Number:  23\n",
      "France and Denmark\n",
      "Winner: France\n",
      "\n",
      "Match Number:  24\n",
      "Argentina and Mexico\n",
      "Winner: Argentina\n",
      "\n",
      "Match Number:  25\n",
      "Japan and Costa Rica\n",
      "Winner: Japan\n",
      "\n",
      "Match Number:  26\n",
      "Belgium and Morocco\n",
      "Winner: Belgium\n",
      "\n",
      "Match Number:  27\n",
      "Croatia and Canada\n",
      "Winner: Croatia\n",
      "\n",
      "Match Number:  28\n",
      "Spain and Germany\n",
      "Winner: Spain\n",
      "\n",
      "Match Number:  29\n",
      "Serbia and Cameroon\n",
      "Winner: Serbia\n",
      "\n",
      "Match Number:  30\n",
      "Ghana and Korea Republic\n",
      "Winner: Ghana\n",
      "\n",
      "Match Number:  31\n",
      "Brazil and Switzerland\n",
      "Draw\n",
      "\n",
      "Match Number:  32\n",
      "Portugal and Uruguay\n",
      "Winner: Portugal\n",
      "\n",
      "Match Number:  33\n",
      "Senegal and Ecuador\n",
      "Winner: Senegal\n",
      "\n",
      "Match Number:  34\n",
      "Netherlands and Qatar\n",
      "Winner: Netherlands\n",
      "\n",
      "Match Number:  35\n",
      "England and Wales\n",
      "Winner: England\n",
      "\n",
      "Match Number:  36\n",
      "USA and Iran\n",
      "Winner: USA\n",
      "\n",
      "Match Number:  37\n",
      "Denmark and Peru\n",
      "Winner: Denmark\n",
      "\n",
      "Match Number:  38\n",
      "France and Tunisia\n",
      "Winner: France\n",
      "\n",
      "Match Number:  39\n",
      "Argentina and Poland\n",
      "Winner: Argentina\n",
      "\n",
      "Match Number:  40\n",
      "Mexico and Saudi Arabia\n",
      "Winner: Mexico\n",
      "\n",
      "Match Number:  41\n",
      "Belgium and Croatia\n",
      "Draw\n",
      "\n",
      "Match Number:  42\n",
      "Morocco and Canada\n",
      "Winner: Morocco\n",
      "\n",
      "Match Number:  43\n",
      "Spain and Japan\n",
      "Winner: Spain\n",
      "\n",
      "Match Number:  44\n",
      "Germany and Costa Rica\n",
      "Winner: Germany\n",
      "\n",
      "Match Number:  45\n",
      "Uruguay and Ghana\n",
      "Winner: Uruguay\n",
      "\n",
      "Match Number:  46\n",
      "Portugal and Korea Republic\n",
      "Winner: Portugal\n",
      "\n",
      "Match Number:  47\n",
      "Switzerland and Serbia\n",
      "Draw\n",
      "\n",
      "Match Number:  48\n",
      "Brazil and Cameroon\n",
      "Winner: Brazil\n",
      "\n"
     ]
    }
   ],
   "source": [
    "# List for storing the group stage games\n",
    "pred_set = []\n",
    "\n",
    "# Create new columns with ranking position of each team\n",
    "fixtures.insert(1, 'first_position', fixtures['Home Team'].map(ranking.set_index('Team')['Position']))\n",
    "fixtures.insert(2, 'second_position', fixtures['Away Team'].map(ranking.set_index('Team')['Position']))\n",
    "\n",
    "# We only need the group stage games, so we have to slice the dataset\n",
    "fixtures = fixtures.iloc[:48, :]\n",
    "################################################################################\n",
    "# MAKING PREDICTION\n",
    "################################################################################\n",
    "\n",
    "# Loop to add teams to new prediction dataset based on the ranking position of each team\n",
    "for index, row in fixtures.iterrows():\n",
    "    if row['first_position'] < row['second_position']:\n",
    "        pred_set.append({'home_team': row['Home Team'], 'away_team': row['Away Team'], 'winning_team': None})\n",
    "    else:\n",
    "        pred_set.append({'home_team': row['Away Team'], 'away_team': row['Home Team'], 'winning_team': None})\n",
    "        \n",
    "pred_set = pd.DataFrame(pred_set)\n",
    "backup_pred_set = pred_set\n",
    "\n",
    "pred_set.head()\n",
    "\n",
    "# Get dummy variables and drop winning_team column\n",
    "pred_set = pd.get_dummies(pred_set, prefix=['home_team', 'away_team'], columns=['home_team', 'away_team'])\n",
    "\n",
    "# Add missing columns compared to the model's training dataset\n",
    "missing_cols = set(final.columns) - set(pred_set.columns)\n",
    "for i in missing_cols:\n",
    "    pred_set[i] = 0\n",
    "pred_set = pred_set[final.columns]\n",
    "\n",
    "# Remove winning team column\n",
    "pred_set = pred_set.drop(['winning_team'], axis=1)\n",
    "\n",
    "pred_set.head()\n",
    "winners = []\n",
    "draws = []\n",
    "predictions = svm_clf.predict(pred_set)\n",
    "for i in range(fixtures.shape[0]):\n",
    "    print('Match Number: ', i+1)\n",
    "    print(backup_pred_set.iloc[i, 0] + ' and ' + backup_pred_set.iloc[i, 1])\n",
    "    if predictions[i] == 3:\n",
    "        print('Winner: ' + backup_pred_set.iloc[i, 0])\n",
    "        winners.append(backup_pred_set.iloc[i, 0])\n",
    "\n",
    "    elif predictions[i] == 1:\n",
    "        print('Draw')\n",
    "        draws.append(backup_pred_set.iloc[i, 0])\n",
    "        draws.append(backup_pred_set.iloc[i, 1])\n",
    "                \n",
    "    elif predictions[i] == 0:\n",
    "        print('Winner: ' + backup_pred_set.iloc[i, 1])\n",
    "        winners.append(backup_pred_set.iloc[i, 1])\n",
    "                \n",
    "    print('')"
   ]
  },
  {
   "cell_type": "markdown",
   "metadata": {
    "id": "7RE-4MjRFLPZ"
   },
   "source": [
    "## Outputting results of the group stage in a table:"
   ]
  },
  {
   "cell_type": "code",
   "execution_count": 12,
   "metadata": {
    "colab": {
     "base_uri": "https://localhost:8080/"
    },
    "id": "1Zqe1zBK8gkM",
    "outputId": "1e3fc28f-99ec-4223-f718-892c685ddf76"
   },
   "outputs": [
    {
     "name": "stdout",
     "output_type": "stream",
     "text": [
      "Group A\n",
      "╒═════════════╤════════╤═════════╤══════════╤══════════╕\n",
      "│ Team Name   │   Wins │   Draws │   Losses │   Points │\n",
      "╞═════════════╪════════╪═════════╪══════════╪══════════╡\n",
      "│ Netherlands │      3 │       0 │        0 │        9 │\n",
      "├─────────────┼────────┼─────────┼──────────┼──────────┤\n",
      "│ Senegal     │      2 │       0 │        1 │        6 │\n",
      "├─────────────┼────────┼─────────┼──────────┼──────────┤\n",
      "│ Ecuador     │      1 │       0 │        2 │        3 │\n",
      "├─────────────┼────────┼─────────┼──────────┼──────────┤\n",
      "│ Qatar       │      0 │       0 │        3 │        0 │\n",
      "╘═════════════╧════════╧═════════╧══════════╧══════════╛ \n",
      "\n",
      "Group B\n",
      "╒═════════════╤════════╤═════════╤══════════╤══════════╕\n",
      "│ Team Name   │   Wins │   Draws │   Losses │   Points │\n",
      "╞═════════════╪════════╪═════════╪══════════╪══════════╡\n",
      "│ England     │      3 │       0 │        0 │        9 │\n",
      "├─────────────┼────────┼─────────┼──────────┼──────────┤\n",
      "│ USA         │      2 │       0 │        1 │        6 │\n",
      "├─────────────┼────────┼─────────┼──────────┼──────────┤\n",
      "│ Wales       │      1 │       0 │        2 │        3 │\n",
      "├─────────────┼────────┼─────────┼──────────┼──────────┤\n",
      "│ Iran        │      0 │       0 │        3 │        0 │\n",
      "╘═════════════╧════════╧═════════╧══════════╧══════════╛ \n",
      "\n",
      "Group C\n",
      "╒══════════════╤════════╤═════════╤══════════╤══════════╕\n",
      "│ Team Name    │   Wins │   Draws │   Losses │   Points │\n",
      "╞══════════════╪════════╪═════════╪══════════╪══════════╡\n",
      "│ Argentina    │      3 │       0 │        0 │        9 │\n",
      "├──────────────┼────────┼─────────┼──────────┼──────────┤\n",
      "│ Mexico       │      2 │       0 │        1 │        6 │\n",
      "├──────────────┼────────┼─────────┼──────────┼──────────┤\n",
      "│ Poland       │      1 │       0 │        2 │        3 │\n",
      "├──────────────┼────────┼─────────┼──────────┼──────────┤\n",
      "│ Saudi Arabia │      0 │       0 │        3 │        0 │\n",
      "╘══════════════╧════════╧═════════╧══════════╧══════════╛ \n",
      "\n",
      "Group D\n",
      "╒═════════════╤════════╤═════════╤══════════╤══════════╕\n",
      "│ Team Name   │   Wins │   Draws │   Losses │   Points │\n",
      "╞═════════════╪════════╪═════════╪══════════╪══════════╡\n",
      "│ France      │      3 │       0 │        0 │        9 │\n",
      "├─────────────┼────────┼─────────┼──────────┼──────────┤\n",
      "│ Denmark     │      2 │       0 │        1 │        6 │\n",
      "├─────────────┼────────┼─────────┼──────────┼──────────┤\n",
      "│ Peru        │      1 │       0 │        2 │        3 │\n",
      "├─────────────┼────────┼─────────┼──────────┼──────────┤\n",
      "│ Tunisia     │      0 │       0 │        3 │        0 │\n",
      "╘═════════════╧════════╧═════════╧══════════╧══════════╛ \n",
      "\n",
      "Group E\n",
      "╒═════════════╤════════╤═════════╤══════════╤══════════╕\n",
      "│ Team Name   │   Wins │   Draws │   Losses │   Points │\n",
      "╞═════════════╪════════╪═════════╪══════════╪══════════╡\n",
      "│ Spain       │      3 │       0 │        0 │        9 │\n",
      "├─────────────┼────────┼─────────┼──────────┼──────────┤\n",
      "│ Germany     │      2 │       0 │        1 │        6 │\n",
      "├─────────────┼────────┼─────────┼──────────┼──────────┤\n",
      "│ Japan       │      1 │       0 │        2 │        3 │\n",
      "├─────────────┼────────┼─────────┼──────────┼──────────┤\n",
      "│ Costa Rica  │      0 │       0 │        3 │        0 │\n",
      "╘═════════════╧════════╧═════════╧══════════╧══════════╛ \n",
      "\n",
      "Group F\n",
      "╒═════════════╤════════╤═════════╤══════════╤══════════╕\n",
      "│ Team Name   │   Wins │   Draws │   Losses │   Points │\n",
      "╞═════════════╪════════╪═════════╪══════════╪══════════╡\n",
      "│ Belgium     │      2 │       1 │        0 │        7 │\n",
      "├─────────────┼────────┼─────────┼──────────┼──────────┤\n",
      "│ Croatia     │      2 │       1 │        0 │        7 │\n",
      "├─────────────┼────────┼─────────┼──────────┼──────────┤\n",
      "│ Morocco     │      1 │       0 │        2 │        3 │\n",
      "├─────────────┼────────┼─────────┼──────────┼──────────┤\n",
      "│ Canada      │      0 │       0 │        3 │        0 │\n",
      "╘═════════════╧════════╧═════════╧══════════╧══════════╛ \n",
      "\n",
      "Group G\n",
      "╒═════════════╤════════╤═════════╤══════════╤══════════╕\n",
      "│ Team Name   │   Wins │   Draws │   Losses │   Points │\n",
      "╞═════════════╪════════╪═════════╪══════════╪══════════╡\n",
      "│ Brazil      │      2 │       1 │        0 │        7 │\n",
      "├─────────────┼────────┼─────────┼──────────┼──────────┤\n",
      "│ Switzerland │      1 │       2 │        0 │        5 │\n",
      "├─────────────┼────────┼─────────┼──────────┼──────────┤\n",
      "│ Serbia      │      1 │       1 │        1 │        4 │\n",
      "├─────────────┼────────┼─────────┼──────────┼──────────┤\n",
      "│ Cameroon    │      0 │       0 │        3 │        0 │\n",
      "╘═════════════╧════════╧═════════╧══════════╧══════════╛ \n",
      "\n",
      "Group H\n",
      "╒════════════════╤════════╤═════════╤══════════╤══════════╕\n",
      "│ Team Name      │   Wins │   Draws │   Losses │   Points │\n",
      "╞════════════════╪════════╪═════════╪══════════╪══════════╡\n",
      "│ Portugal       │      3 │       0 │        0 │        9 │\n",
      "├────────────────┼────────┼─────────┼──────────┼──────────┤\n",
      "│ Uruguay        │      2 │       0 │        1 │        6 │\n",
      "├────────────────┼────────┼─────────┼──────────┼──────────┤\n",
      "│ Ghana          │      1 │       0 │        2 │        3 │\n",
      "├────────────────┼────────┼─────────┼──────────┼──────────┤\n",
      "│ Korea Republic │      0 │       0 │        3 │        0 │\n",
      "╘════════════════╧════════╧═════════╧══════════╧══════════╛ \n",
      "\n"
     ]
    }
   ],
   "source": [
    "def get_table(groupArray):\n",
    "    groupTable = []\n",
    "    for Team in groupArray:\n",
    "        newArray = [Team, 0, 0, 0, 0]\n",
    "      \n",
    "        for winTeam in winners:\n",
    "            if winTeam == Team:\n",
    "                newArray[1] += 1\n",
    "        \n",
    "        for drawTeam in draws:\n",
    "            if drawTeam == Team:\n",
    "                newArray[2] += 1\n",
    "        \n",
    "        newArray[3] = 3-(newArray[1]+newArray[2])\n",
    "        newArray[4] = 3*newArray[1]+newArray[2]\n",
    "        \n",
    "        groupTable.append(newArray)\n",
    "    groupTable.sort(key = lambda groupTable: groupTable[4], reverse = True)\n",
    "    groupTable.insert(0, ['Team Name', 'Wins', 'Draws', 'Losses', 'Points', 'Advanced to Group Stage?'])\n",
    "    return groupTable\n",
    "\n",
    "groups = {'Group A': ['Qatar', 'Ecuador', 'Senegal', 'Netherlands'],\n",
    "          'Group B': ['England', 'Iran', 'USA', 'Wales'],\n",
    "          'Group C': ['Argentina', 'Saudi Arabia', 'Mexico', 'Poland'],\n",
    "          'Group D' : ['France', 'Peru', 'Denmark', 'Tunisia'],\n",
    "          'Group E' : ['Spain', 'Germany', 'Japan', 'Costa Rica'],\n",
    "          'Group F' : ['Belgium', 'Canada', 'Morocco', 'Croatia'],\n",
    "          'Group G' : ['Brazil', 'Serbia', 'Switzerland', 'Cameroon'],\n",
    "          'Group H' : ['Portugal', 'Ghana', 'Uruguay', 'Korea Republic'],\n",
    "}\n",
    "newerArray = []\n",
    "count = 0\n",
    "for x in groups:\n",
    "    newerArray.append(get_table(groups[x]))\n",
    "    print(x)\n",
    "    print(tabulate(newerArray[count], headers='firstrow', tablefmt='fancy_grid'), '\\n')\n",
    "    count += 1"
   ]
  },
  {
   "cell_type": "markdown",
   "metadata": {
    "id": "8WBqexCdRKn_"
   },
   "source": [
    "## Making a function to predict winners. This function will be used for all knockout stage matches:"
   ]
  },
  {
   "cell_type": "code",
   "execution_count": 13,
   "metadata": {
    "id": "Ci3pkSY7RSdV"
   },
   "outputs": [],
   "source": [
    "def predict(matches, ranking, final, logistic):\n",
    "    #Initialization of auxiliary list for data cleaning\n",
    "    positions = []\n",
    "\n",
    "    #Loop to retrieve each team's position according to FIFA ranking\n",
    "    for match in matches:\n",
    "        positions.append(ranking.loc[ranking['Team'] == match[0], 'Position'].iloc[0])\n",
    "        positions.append(ranking.loc[ranking['Team'] == match[1], 'Position'].iloc[0])\n",
    "\n",
    "    #Creating the DataFrame for prediction\n",
    "    pred_set = []\n",
    "\n",
    "    #initalizaing iterators for while loop\n",
    "    i = 0\n",
    "    j = 0\n",
    "\n",
    "    # 'i' will be the iterator for the 'position' list, and 'j' for the list of matches (list of tuples)\n",
    "\n",
    "    while i < len(positions):\n",
    "        dict1 = {}\n",
    "\n",
    "        # if position of first team is better, he will be the 'home' team, and vice-versa\n",
    "        if positions[i] < positions[i + 1]:\n",
    "            dict1.update({'home_team': matches[j][0], 'away_team': matches[j][1]})\n",
    "        else:\n",
    "            dict1.update({'home_team': matches[j][1], 'away_team': matches[j][0]})\n",
    "\n",
    "        #Append updated dictionary to the list, that will later be converted into a DataFrame\n",
    "        pred_set.append(dict1)\n",
    "        i += 2\n",
    "        j += 1\n",
    "\n",
    "    #Covert list into DataFrame\n",
    "    pred_set = pd.DataFrame(pred_set)\n",
    "    backup_pred_set = pred_set\n",
    "\n",
    "    #Get dummy variables and drop winning_team column\n",
    "    pred_set = pd.get_dummies(pred_set, prefix = ['home_team', 'away_team'], columns = ['home_team', 'away_team'])\n",
    "\n",
    "    #Add missing columns compared to the model's training dataset\n",
    "    missing_cols2 = set(final.columns) - set(pred_set.columns)\n",
    "    for c in missing_cols2:\n",
    "        pred_set[c] = 0\n",
    "    pred_set = pred_set[final.columns]\n",
    "\n",
    "    #Remove winning team column\n",
    "    pred_set = pred_set.drop(['winning_team'], axis=1)\n",
    "\n",
    "    #List of winning teams\n",
    "    winningTeams = []\n",
    "\n",
    "    #Prediction\n",
    "    predictions = logistic.predict(pred_set)\n",
    "    for i in range(len(pred_set)):\n",
    "        print(backup_pred_set.iloc[i,1] + ' and ' + backup_pred_set.iloc[i,0])\n",
    "        if predictions[i] == 3:\n",
    "            print('Winner: ' + backup_pred_set.iloc[i,0], '\\n')\n",
    "            winningTeams.append(backup_pred_set.iloc[i,0])\n",
    "        elif predictions[i] == 1:\n",
    "          pass\n",
    "           # print('Draw')\n",
    "        elif predictions[i] == 0:\n",
    "            print('Winner: ' + backup_pred_set.iloc[i, 1], '\\n')\n",
    "            winningTeams.append(backup_pred_set.iloc[i,1])\n",
    "        #print('Probability of ' + backup_pred_set.iloc[i,0] + ' winning: ', '%.3f'%(logistic.predict_proba(pred_set)[i][2]))\n",
    "        #print('Probability of Draw: ', '%.3f'%(logistic.predict_proba(pred_set)[i][1]))\n",
    "        #print('Probability of ' + backup_pred_set.iloc[i, 1] + ' winning: ', '%.3f'%(logistic.predict_proba(pred_set)[i][0]))\n",
    "        #print('')\n",
    "\n",
    "    return winningTeams"
   ]
  },
  {
   "cell_type": "markdown",
   "metadata": {
    "id": "Fb1EpRekSz3n"
   },
   "source": [
    "## Making an array to represent which teams are playing against each other in the round of 16 and making predictions"
   ]
  },
  {
   "cell_type": "code",
   "execution_count": 14,
   "metadata": {
    "colab": {
     "base_uri": "https://localhost:8080/"
    },
    "id": "0_FmjoknTLE3",
    "outputId": "5184098c-4a69-4349-9690-531c32e4b188"
   },
   "outputs": [
    {
     "name": "stdout",
     "output_type": "stream",
     "text": [
      "USA and Netherlands\n",
      "Winner: Netherlands \n",
      "\n",
      "Senegal and England\n",
      "Winner: England \n",
      "\n",
      "Denmark and Argentina\n",
      "Winner: Argentina \n",
      "\n",
      "Mexico and France\n",
      "Winner: France \n",
      "\n",
      "Croatia and Spain\n",
      "Winner: Spain \n",
      "\n",
      "Germany and Belgium\n",
      "Winner: Germany \n",
      "\n",
      "Uruguay and Brazil\n",
      "Winner: Brazil \n",
      "\n",
      "Switzerland and Portugal\n",
      "Winner: Portugal \n",
      "\n"
     ]
    },
    {
     "name": "stderr",
     "output_type": "stream",
     "text": [
      "/var/folders/dn/pq01swjn7lb4fy0x3bmwc_2r0000gn/T/ipykernel_27009/666215110.py:43: PerformanceWarning: DataFrame is highly fragmented.  This is usually the result of calling `frame.insert` many times, which has poor performance.  Consider joining all columns at once using pd.concat(axis=1) instead.  To get a de-fragmented frame, use `newframe = frame.copy()`\n",
      "  pred_set[c] = 0\n"
     ]
    }
   ],
   "source": [
    "# Making an array to represent \n",
    "advancingTeams = []\n",
    "for i in range(0,len(newerArray),2):\n",
    "    x = (newerArray[i][1][0], newerArray[i+1][2][0])\n",
    "    y = (newerArray[i][2][0], newerArray[i+1][1][0])\n",
    "    advancingTeams.append(x)\n",
    "    advancingTeams.append(y)\n",
    "\n",
    "round_of_16 = advancingTeams\n",
    "listTeamWins = predict(round_of_16, ranking, final, logistic)\n"
   ]
  },
  {
   "cell_type": "markdown",
   "metadata": {
    "id": "0bp7Ma2xTgKl"
   },
   "source": [
    "## Making an array to represent which teams are playing against each other in the quarterfinals and making predictions"
   ]
  },
  {
   "cell_type": "code",
   "execution_count": 15,
   "metadata": {
    "colab": {
     "base_uri": "https://localhost:8080/"
    },
    "id": "0psLILMoTkGs",
    "outputId": "10cb655a-5e7a-4e6b-bc1d-965c049ce625"
   },
   "outputs": [
    {
     "name": "stderr",
     "output_type": "stream",
     "text": [
      "/var/folders/dn/pq01swjn7lb4fy0x3bmwc_2r0000gn/T/ipykernel_27009/666215110.py:43: PerformanceWarning: DataFrame is highly fragmented.  This is usually the result of calling `frame.insert` many times, which has poor performance.  Consider joining all columns at once using pd.concat(axis=1) instead.  To get a de-fragmented frame, use `newframe = frame.copy()`\n",
      "  pred_set[c] = 0\n"
     ]
    },
    {
     "name": "stdout",
     "output_type": "stream",
     "text": [
      "Netherlands and Argentina\n",
      "Winner: Argentina \n",
      "\n",
      "England and France\n",
      "Winner: England \n",
      "\n",
      "Spain and Brazil\n",
      "Winner: Brazil \n",
      "\n",
      "Germany and Portugal\n",
      "Winner: Portugal \n",
      "\n"
     ]
    }
   ],
   "source": [
    "advancingTeams = []\n",
    "i=0\n",
    "for w in range(2):\n",
    "    x = (listTeamWins[i], listTeamWins[i+2])\n",
    "    y = (listTeamWins[i+1], listTeamWins[i+3])\n",
    "    i = i+4\n",
    "    advancingTeams.append(x)\n",
    "    advancingTeams.append(y)\n",
    "\n",
    "quarter_final = advancingTeams\n",
    "listTeamWins = predict(quarter_final, ranking, final, logistic)\n"
   ]
  },
  {
   "cell_type": "markdown",
   "metadata": {
    "id": "hQwlE4acTxnr"
   },
   "source": [
    "## Making an array to represent which teams are playing against each other in the semifinals and making predictions"
   ]
  },
  {
   "cell_type": "code",
   "execution_count": 16,
   "metadata": {
    "colab": {
     "base_uri": "https://localhost:8080/"
    },
    "id": "whqx4EChT0JI",
    "outputId": "91fcae02-e9a0-4fda-e85d-ab6e9cb4b26b"
   },
   "outputs": [
    {
     "name": "stdout",
     "output_type": "stream",
     "text": [
      "Argentina and Brazil\n",
      "Winner: Brazil \n",
      "\n",
      "Portugal and England\n",
      "Winner: England \n",
      "\n"
     ]
    },
    {
     "name": "stderr",
     "output_type": "stream",
     "text": [
      "/var/folders/dn/pq01swjn7lb4fy0x3bmwc_2r0000gn/T/ipykernel_27009/666215110.py:43: PerformanceWarning: DataFrame is highly fragmented.  This is usually the result of calling `frame.insert` many times, which has poor performance.  Consider joining all columns at once using pd.concat(axis=1) instead.  To get a de-fragmented frame, use `newframe = frame.copy()`\n",
      "  pred_set[c] = 0\n"
     ]
    }
   ],
   "source": [
    "advancingTeams = []\n",
    "i=0\n",
    "for w in range(1):\n",
    "    x = (listTeamWins[i], listTeamWins[i+2])\n",
    "    y = (listTeamWins[i+1], listTeamWins[i+3])\n",
    "    i = i+4\n",
    "    advancingTeams.append(x)\n",
    "    advancingTeams.append(y)\n",
    "\n",
    "semi_final = advancingTeams\n",
    "\n",
    "listTeamWins = predict(semi_final, ranking, final, logistic)\n"
   ]
  },
  {
   "cell_type": "markdown",
   "metadata": {
    "id": "3xjkON8hUAAF"
   },
   "source": [
    "## Making an array to represent which teams are playing against each other in the finals and making predictions"
   ]
  },
  {
   "cell_type": "code",
   "execution_count": 17,
   "metadata": {
    "colab": {
     "base_uri": "https://localhost:8080/"
    },
    "id": "ovU9v8o3UH8p",
    "outputId": "af16abd8-42f2-46e0-fb82-50ec774e2e6f"
   },
   "outputs": [
    {
     "name": "stderr",
     "output_type": "stream",
     "text": [
      "/var/folders/dn/pq01swjn7lb4fy0x3bmwc_2r0000gn/T/ipykernel_27009/666215110.py:43: PerformanceWarning: DataFrame is highly fragmented.  This is usually the result of calling `frame.insert` many times, which has poor performance.  Consider joining all columns at once using pd.concat(axis=1) instead.  To get a de-fragmented frame, use `newframe = frame.copy()`\n",
      "  pred_set[c] = 0\n"
     ]
    },
    {
     "name": "stdout",
     "output_type": "stream",
     "text": [
      "England and Brazil\n",
      "Winner: Brazil \n",
      "\n"
     ]
    }
   ],
   "source": [
    "advancingTeams = [(listTeamWins[0],listTeamWins[1])]\n",
    "\n",
    "finals = advancingTeams\n",
    "\n",
    "winner = predict(finals, ranking, final, logistic)\n"
   ]
  },
  {
   "cell_type": "markdown",
   "metadata": {
    "id": "BKXlo50Oxb7x"
   },
   "source": [
    "## Visualizing the results of the knockout stage in a bracket:"
   ]
  },
  {
   "cell_type": "code",
   "execution_count": 18,
   "metadata": {
    "colab": {
     "base_uri": "https://localhost:8080/"
    },
    "id": "DNX6P3BWxPwm",
    "outputId": "c6c683bb-37b2-4431-b115-7622529511f5"
   },
   "outputs": [
    {
     "name": "stdout",
     "output_type": "stream",
     "text": [
      "Netherlands    USA     Argentina   Denmark    Spain    Croatia     Brazil    Uruguay     Senegal    England     Mexico    France     Germany    Belgium     Switzerland  Portugal    Switzerland   Portugal    \n",
      "   |           |         |           |         |           |         |           |         |           |         |           |         |           |         |           |      \n",
      "   |_____ _____|         |_____ _____|         |_____ _____|         |_____ _____|         |_____ _____|         |_____ _____|         |_____ _____|         |_____ _____|      \n",
      "         |                     |                     |                     |                     |                     |                     |                     |            \n",
      "    Netherlands             Argentina               Spain                Brazil                England               France              Germany             Portugal         \n",
      "         |                     |                     |                     |                     |                     |                     |                     |            \n",
      "         |__________ __________|                     |__________ __________|                     |__________ __________|                     |__________ __________|            \n",
      "                    |                                           |                                           |                                           |                       \n",
      "                 Argentina                                    Brazil                                     England                                    Portugal                    \n",
      "                    |                                           |                                           |                                           |                       \n",
      "                    |                                           |                                           |                                           |                       \n",
      "                    |_____________________ _____________________|                                           |_____________________ _____________________|                       \n",
      "                                          |                                                                                       |                                             \n",
      "                                        Brazil                                                                                 England\n",
      "                                          |                                                                                       |\n",
      "                                          |_____________________________________________ _________________________________________|\n",
      "                                                                                        |                                          \n",
      "                                                                                     Brazil"
     ]
    }
   ],
   "source": [
    "if finals[0][0] not in semi_final[0] and finals[0][1] not in semi_final[0]:\n",
    "    temp = semi_final[0]\n",
    "    semi_final[0] = semi_final[1]\n",
    "    semi_final[1] = temp\n",
    "\n",
    "\n",
    "quarter_final_2 = []\n",
    "\n",
    "for team1, team2 in semi_final:\n",
    "        j = 0\n",
    "        while True:\n",
    "            if team1 in quarter_final[j]:\n",
    "                quarter_final_2.append(quarter_final[j])\n",
    "                break\n",
    "            else:\n",
    "                j+=1\n",
    "            if (j == len(quarter_final)): \n",
    "                break\n",
    "            \n",
    "        j = 0\n",
    "        while True:\n",
    "            if team2 in quarter_final[j]:\n",
    "                quarter_final_2.append(quarter_final[j])\n",
    "                break\n",
    "            else:\n",
    "                j+=1\n",
    "\n",
    "round_of_16_2 = []\n",
    "\n",
    "for team1, team2 in quarter_final_2:\n",
    "        j = 0\n",
    "        while True:\n",
    "            if team1 in round_of_16[j]:\n",
    "                round_of_16_2.append(round_of_16[j])\n",
    "                break\n",
    "            else:\n",
    "                j+=1\n",
    "        j = 0\n",
    "        while True:\n",
    "            if team2 in round_of_16[j]:\n",
    "                round_of_16_2.append(round_of_16[j])\n",
    "                break\n",
    "            else:\n",
    "                j+=1      \n",
    "\n",
    "    \n",
    "for team1, team2 in round_of_16_2:\n",
    "    if (len(team1)+len(team2)) > 16:\n",
    "      print(team1+\"  \"+team2+\"    \", end=\"\")\n",
    "    if (len(team1)+len(team2)) > 14:\n",
    "      print(team1+\"   \"+team2+\"    \", end=\"\")\n",
    "    else:\n",
    "      print(team1+\"    \"+team2+\"     \", end=\"\")\n",
    "print(\"\\n\", end =\"\")\n",
    "for team1, team2 in round_of_16_2:\n",
    "    print(\"   |           |      \", end=\"\")\n",
    "print(\"\\n\", end =\"\")\n",
    "for team1, team2 in round_of_16_2:\n",
    "    print(\"   |_____ _____|      \", end=\"\")\n",
    "print(\"\\n\", end =\"\")\n",
    "for team1, team2 in round_of_16_2:\n",
    "    print(\"         |            \", end=\"\")\n",
    "print(\"\\n\", end =\"\")\n",
    "for team1, team2 in quarter_final_2:\n",
    "    if (len(team1)+len(team2)) > 14:\n",
    "      print(\"    \"+team1+\"             \"+team2+\"         \", end=\"\")\n",
    "    elif (len(team1)+len(team2)) > 12:\n",
    "      print(\"      \"+team1+\"               \"+team2+\"          \", end=\"\")\n",
    "    else:\n",
    "      print(\"      \"+team1+\"                \"+team2+\"          \", end=\"\")\n",
    "    \n",
    "print(\"\\n\", end =\"\")\n",
    "for team1, team2 in quarter_final_2:\n",
    "    print(\"         |                     |            \", end=\"\")\n",
    "print(\"\\n\", end =\"\")\n",
    "for team1, team2 in quarter_final_2:\n",
    "    print(\"         |__________ __________|            \", end=\"\")\n",
    "print(\"\\n\", end =\"\")\n",
    "for team1, team2 in quarter_final_2:\n",
    "    print(\"                    |                       \", end=\"\")\n",
    "print(\"\\n\", end =\"\")\n",
    "for team1, team2 in semi_final:\n",
    "    print(\"                 \"+team1+\"                                    \"+team2+\"                    \", end=\"\")\n",
    "print(\"\\n\", end =\"\")\n",
    "for team1, team2 in semi_final:\n",
    "    print(\"                    |                                           |                       \", end=\"\")\n",
    "print(\"\\n\", end =\"\")\n",
    "for team1, team2 in semi_final:\n",
    "    print(\"                    |                                           |                       \", end=\"\")\n",
    "print(\"\\n\", end =\"\")\n",
    "for team1, team2 in semi_final:\n",
    "    print(\"                    |_____________________ _____________________|                       \", end=\"\")\n",
    "print(\"\\n\", end =\"\")\n",
    "for team1, team2 in semi_final:\n",
    "    print(\"                                          |                                             \", end=\"\")\n",
    "print(\"\\n\", end =\"\")\n",
    "print(\"                                        \"+finals[0][0]+\"                                                                                 \"+finals[0][1], end=\"\")\n",
    "print(\"\\n\", end =\"\")\n",
    "print(\"                                          |                                                                                       |\", end=\"\")\n",
    "print(\"\\n\", end =\"\")\n",
    "print(\"                                          |_____________________________________________ _________________________________________|\", end=\"\")\n",
    "print(\"\\n\", end =\"\")\n",
    "print(\"                                                                                        |                                          \", end=\"\")\n",
    "print(\"\\n\", end =\"\")\n",
    "print(\"                                                                                     \"+winner[0], end=\"\")"
   ]
  }
 ],
 "metadata": {
  "colab": {
   "collapsed_sections": [],
   "name": "FIFA22WC.ipynb",
   "provenance": []
  },
  "kernelspec": {
   "display_name": "Python 3 (ipykernel)",
   "language": "python",
   "name": "python3"
  },
  "language_info": {
   "codemirror_mode": {
    "name": "ipython",
    "version": 3
   },
   "file_extension": ".py",
   "mimetype": "text/x-python",
   "name": "python",
   "nbconvert_exporter": "python",
   "pygments_lexer": "ipython3",
   "version": "3.9.7"
  }
 },
 "nbformat": 4,
 "nbformat_minor": 4
}
